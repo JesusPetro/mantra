{
 "cells": [
  {
   "cell_type": "code",
   "execution_count": 1,
   "metadata": {},
   "outputs": [],
   "source": [
    "import pandas as pd\n",
    "import random\n",
    "import matplotlib.pyplot as plt \n",
    "import numpy as np \n",
    "from visibility_graph import visibility_graph\n",
    "import networkx as nx\n",
    "import statsmodels.api as sm\n",
    "import os\n",
    "\n",
    "ruta = '../LPV/'\n",
    "title = 'LPV'\n",
    "\n",
    "edge = '../LPV/edgeList/'\n",
    "\n",
    "if not os.path.exists(ruta):\n",
    "    os.makedirs(ruta)\n",
    "\n",
    "if not os.path.exists(edge):\n",
    "    os.makedirs(edge)"
   ]
  },
  {
   "cell_type": "code",
   "execution_count": 2,
   "metadata": {},
   "outputs": [],
   "source": [
    "def lista0 (lista1, lista2):\n",
    "    while 0 in lista1:\n",
    "        lista2.pop(lista1.index(0))\n",
    "        lista1.remove(0)\n",
    "    return lista1, lista2 \n",
    "\n",
    "def get_alpha(route,id, li_fit, ls_fit, xlimi, xlims, color, name):\n",
    "    \n",
    "    data = f'{route}{id}'\n",
    "    routeSaved = f'{route}pdf_{title}/'\n",
    "\n",
    "    if not os.path.exists(routeSaved):\n",
    "        os.makedirs(routeSaved)\n",
    "\n",
    "    #manejo del grafo y grados.\n",
    "    G = nx.read_edgelist(data,nodetype=int) # leemos el grafo\n",
    "    degree_count =  nx.degree_histogram(G) \n",
    "    degrees = list(range(0, len(degree_count)))\n",
    "\n",
    "    degree_count, degrees = lista0(degree_count, degrees)\n",
    "    \n",
    "    #Normalize the degree distribution\n",
    "    degree_distribution = [count/float(sum(degree_count)) for count in degree_count]\n",
    "    x0,y0=np.array(np.log10(degrees)),np.array(np.log10(degree_distribution))\n",
    "    x,y=x0[(x0>=li_fit)&(x0<=ls_fit)],y0[(x0>=li_fit)&(x0<=ls_fit)]\n",
    "\n",
    "\n",
    "    x = sm.add_constant(x)\n",
    "    model = sm.OLS(y, x).fit()\n",
    "\n",
    "    # Plot degree distribution\n",
    "    a=np.linspace(li_fit,ls_fit,10)\n",
    "    \n",
    "\n",
    "    plt.figure(figsize=(6,4))\n",
    "    plt.plot(x0,y0,color=color,linewidth=0,marker=\"P\",markersize=5,label=\"data\")\n",
    "    plt.plot(a,(a)*(model.params[1])+model.params[0]*1.,color=\"k\",lw=3,label=r\"fit ($\\alpha_0={}$)\".format(-np.round(model.params[1],2)))\n",
    "    plt.xlabel(r'$\\log_{10}(k)$ (Degree)'); plt.ylabel(r'$\\log_{10} P(k)$'); plt.title('Degree Distribution {}'.format(name)); plt.legend(); plt.xlim(xlimi,xlims)\n",
    "    plt.legend(title=r\"$P(k)\\sim x^{-\\alpha_0}$\"); plt.grid(alpha=0.5)\n",
    "    plt.savefig(routeSaved+f'{id}.pdf',dpi=400,bbox_inches='tight')\n",
    "    plt.show()\n",
    "\n",
    "    return"
   ]
  },
  {
   "cell_type": "code",
   "execution_count": 3,
   "metadata": {},
   "outputs": [
    {
     "data": {
      "text/html": [
       "<div>\n",
       "<style scoped>\n",
       "    .dataframe tbody tr th:only-of-type {\n",
       "        vertical-align: middle;\n",
       "    }\n",
       "\n",
       "    .dataframe tbody tr th {\n",
       "        vertical-align: top;\n",
       "    }\n",
       "\n",
       "    .dataframe thead th {\n",
       "        text-align: right;\n",
       "    }\n",
       "</style>\n",
       "<table border=\"1\" class=\"dataframe\">\n",
       "  <thead>\n",
       "    <tr style=\"text-align: right;\">\n",
       "      <th></th>\n",
       "      <th>Classification</th>\n",
       "      <th>ID</th>\n",
       "      <th>observation_id</th>\n",
       "      <th>Mag</th>\n",
       "      <th>Magerr</th>\n",
       "      <th>MJD</th>\n",
       "    </tr>\n",
       "  </thead>\n",
       "  <tbody>\n",
       "    <tr>\n",
       "      <th>0</th>\n",
       "      <td>LPV</td>\n",
       "      <td>1112291120524129371</td>\n",
       "      <td>151479</td>\n",
       "      <td>13.8415</td>\n",
       "      <td>0.054039</td>\n",
       "      <td>54548.315422</td>\n",
       "    </tr>\n",
       "    <tr>\n",
       "      <th>1</th>\n",
       "      <td>LPV</td>\n",
       "      <td>1206181040794128810</td>\n",
       "      <td>284577</td>\n",
       "      <td>15.1438</td>\n",
       "      <td>0.059172</td>\n",
       "      <td>55625.497183</td>\n",
       "    </tr>\n",
       "    <tr>\n",
       "      <th>2</th>\n",
       "      <td>LPV</td>\n",
       "      <td>1206181040794128810</td>\n",
       "      <td>284578</td>\n",
       "      <td>15.2550</td>\n",
       "      <td>0.059927</td>\n",
       "      <td>55634.424365</td>\n",
       "    </tr>\n",
       "    <tr>\n",
       "      <th>3</th>\n",
       "      <td>LPV</td>\n",
       "      <td>1206181040794128810</td>\n",
       "      <td>284553</td>\n",
       "      <td>15.8084</td>\n",
       "      <td>0.061762</td>\n",
       "      <td>55656.399305</td>\n",
       "    </tr>\n",
       "    <tr>\n",
       "      <th>4</th>\n",
       "      <td>LPV</td>\n",
       "      <td>1206181040794128810</td>\n",
       "      <td>284552</td>\n",
       "      <td>15.7952</td>\n",
       "      <td>0.061654</td>\n",
       "      <td>55656.393029</td>\n",
       "    </tr>\n",
       "    <tr>\n",
       "      <th>...</th>\n",
       "      <td>...</td>\n",
       "      <td>...</td>\n",
       "      <td>...</td>\n",
       "      <td>...</td>\n",
       "      <td>...</td>\n",
       "      <td>...</td>\n",
       "    </tr>\n",
       "    <tr>\n",
       "      <th>1834</th>\n",
       "      <td>LPV</td>\n",
       "      <td>1202251040804151905</td>\n",
       "      <td>284694</td>\n",
       "      <td>19.0625</td>\n",
       "      <td>0.178905</td>\n",
       "      <td>53509.182677</td>\n",
       "    </tr>\n",
       "    <tr>\n",
       "      <th>1835</th>\n",
       "      <td>LPV</td>\n",
       "      <td>1202251040804151905</td>\n",
       "      <td>284693</td>\n",
       "      <td>20.2789</td>\n",
       "      <td>0.338933</td>\n",
       "      <td>53509.176253</td>\n",
       "    </tr>\n",
       "    <tr>\n",
       "      <th>1836</th>\n",
       "      <td>LPV</td>\n",
       "      <td>1202251040804151905</td>\n",
       "      <td>284692</td>\n",
       "      <td>19.6784</td>\n",
       "      <td>0.246706</td>\n",
       "      <td>53494.384739</td>\n",
       "    </tr>\n",
       "    <tr>\n",
       "      <th>1837</th>\n",
       "      <td>LPV</td>\n",
       "      <td>1202251040804151905</td>\n",
       "      <td>284696</td>\n",
       "      <td>17.8148</td>\n",
       "      <td>0.118167</td>\n",
       "      <td>53834.335148</td>\n",
       "    </tr>\n",
       "    <tr>\n",
       "      <th>1838</th>\n",
       "      <td>LPV</td>\n",
       "      <td>1202251040804151905</td>\n",
       "      <td>284700</td>\n",
       "      <td>17.6709</td>\n",
       "      <td>0.104904</td>\n",
       "      <td>53843.388839</td>\n",
       "    </tr>\n",
       "  </tbody>\n",
       "</table>\n",
       "<p>1839 rows × 6 columns</p>\n",
       "</div>"
      ],
      "text/plain": [
       "     Classification                   ID  observation_id      Mag    Magerr   \n",
       "0               LPV  1112291120524129371          151479  13.8415  0.054039  \\\n",
       "1               LPV  1206181040794128810          284577  15.1438  0.059172   \n",
       "2               LPV  1206181040794128810          284578  15.2550  0.059927   \n",
       "3               LPV  1206181040794128810          284553  15.8084  0.061762   \n",
       "4               LPV  1206181040794128810          284552  15.7952  0.061654   \n",
       "...             ...                  ...             ...      ...       ...   \n",
       "1834            LPV  1202251040804151905          284694  19.0625  0.178905   \n",
       "1835            LPV  1202251040804151905          284693  20.2789  0.338933   \n",
       "1836            LPV  1202251040804151905          284692  19.6784  0.246706   \n",
       "1837            LPV  1202251040804151905          284696  17.8148  0.118167   \n",
       "1838            LPV  1202251040804151905          284700  17.6709  0.104904   \n",
       "\n",
       "               MJD  \n",
       "0     54548.315422  \n",
       "1     55625.497183  \n",
       "2     55634.424365  \n",
       "3     55656.399305  \n",
       "4     55656.393029  \n",
       "...            ...  \n",
       "1834  53509.182677  \n",
       "1835  53509.176253  \n",
       "1836  53494.384739  \n",
       "1837  53834.335148  \n",
       "1838  53843.388839  \n",
       "\n",
       "[1839 rows x 6 columns]"
      ]
     },
     "execution_count": 3,
     "metadata": {},
     "output_type": "execute_result"
    }
   ],
   "source": [
    "lpv = pd.read_csv(f'../transients/{title}.csv')\n",
    "lpv"
   ]
  },
  {
   "cell_type": "code",
   "execution_count": 12,
   "metadata": {},
   "outputs": [
    {
     "name": "stdout",
     "output_type": "stream",
     "text": [
      "5\n"
     ]
    },
    {
     "data": {
      "text/plain": [
       "array([1112291120524129371, 1206181040794128810, 1412301211134147029,\n",
       "       1202251040804151905, 1302141290364160994], dtype=int64)"
      ]
     },
     "execution_count": 12,
     "metadata": {},
     "output_type": "execute_result"
    }
   ],
   "source": [
    "ids = list(lpv['ID'].unique())\n",
    "print(len(list(lpv['ID'].unique())))\n",
    "lpv['ID'].unique()\n"
   ]
  },
  {
   "cell_type": "markdown",
   "metadata": {},
   "source": [
    "##### Función para hacer los datos"
   ]
  },
  {
   "cell_type": "code",
   "execution_count": 5,
   "metadata": {},
   "outputs": [],
   "source": [
    "#funcion que haga eso de forma automatica\n",
    "\n",
    "def edgelist(id):\n",
    "\n",
    "    vec_id = lpv[lpv['ID'] == id]['Mag']\n",
    "    graph_id = visibility_graph(vec_id)\n",
    "    nx.write_edgelist(graph_id, f'{ruta}edgeList/{id}')\n"
   ]
  },
  {
   "cell_type": "markdown",
   "metadata": {},
   "source": [
    "#### Indices de los id's a probar (sacado aleatoreamente)\n",
    "\n",
    "solo hay 5 elementos, así que va en orden xd\n"
   ]
  },
  {
   "cell_type": "code",
   "execution_count": 6,
   "metadata": {},
   "outputs": [],
   "source": [
    "id1 = 1112291120524129371\n",
    "id2 = 1206181040794128810\n",
    "id3 = 1412301211134147029\n",
    "id4 = 1202251040804151905\n",
    "id5 = 1302141290364160994\n",
    "\n",
    "\n",
    "edgelist(id1)\n",
    "edgelist(id2)\n",
    "edgelist(id3)\n",
    "edgelist(id4)\n",
    "edgelist(id5)"
   ]
  },
  {
   "cell_type": "code",
   "execution_count": 5,
   "metadata": {},
   "outputs": [],
   "source": [
    "def get_alpha_data(route,id, li_fit, ls_fit, name):\n",
    "    \n",
    "    data = f'{edge}{id}'\n",
    "    \n",
    "    #manejo del grafo y grados.\n",
    "    G = nx.read_edgelist(data,nodetype=int) # leemos el grafo\n",
    "    degree_count =  nx.degree_histogram(G) \n",
    "    degrees = list(range(0, len(degree_count)))\n",
    "\n",
    "    degree_count, degrees = lista0(degree_count, degrees)\n",
    "    \n",
    "    #Normalize the degree distribution\n",
    "    degree_distribution = [count/float(sum(degree_count)) for count in degree_count]\n",
    "    x0,y0=np.array(np.log10(degrees)),np.array(np.log10(degree_distribution))\n",
    "    x,y=x0[(x0>=li_fit)&(x0<=ls_fit)],y0[(x0>=li_fit)&(x0<=ls_fit)]\n",
    "\n",
    "\n",
    "    x = sm.add_constant(x)\n",
    "    model = sm.OLS(y, x).fit()\n",
    "\n",
    "    alpha = -np.round(model.params[1],2)\n",
    "    values = [name,id,alpha]\n",
    "    \n",
    "    return values"
   ]
  },
  {
   "cell_type": "code",
   "execution_count": 8,
   "metadata": {},
   "outputs": [
    {
     "name": "stdout",
     "output_type": "stream",
     "text": [
      "[['LPV', 1112291120524129371, 2.52], ['LPV', 1206181040794128810, 2.39], ['LPV', 1412301211134147029, 2.57], ['LPV', 1202251040804151905, 2.27], ['LPV', 1302141290364160994, 2.46]]\n"
     ]
    }
   ],
   "source": [
    "values = []\n",
    "for id in ids:\n",
    "    values.append(get_alpha_data(edge, id, 0.766, 1.447, 'LPV')) \n",
    "\n",
    "print(values)"
   ]
  },
  {
   "cell_type": "code",
   "execution_count": 9,
   "metadata": {},
   "outputs": [],
   "source": [
    "import csv \n",
    "\n",
    "ruta = '../resultados/prueba.csv'\n",
    "\n",
    "with open (ruta, mode = 'a', newline = '') as archivo: \n",
    "    writer = csv.writer(archivo)\n",
    "\n",
    "    writer.writerows(values)\n",
    "    pass"
   ]
  },
  {
   "cell_type": "code",
   "execution_count": 7,
   "metadata": {},
   "outputs": [],
   "source": [
    "values_min = [0.72, 0.780, 0.70, 0.90, 0.73]\n",
    "values_max = [1.50, 1.435, 1.39, 1.49, 1.42]\n",
    "values_alpha = [2.35, 2.39, 2.6, 2.09, 2.47]"
   ]
  },
  {
   "cell_type": "markdown",
   "metadata": {},
   "source": [
    "#### PRUEBA 1 $\\rightarrow$ LPV\n",
    "\n",
    "ID: 1112291120524129371"
   ]
  },
  {
   "cell_type": "code",
   "execution_count": 8,
   "metadata": {},
   "outputs": [],
   "source": [
    "#0.85 & 1.34 -> 3.0\n",
    "#otra opcion: 0.65  & 1.43 -> 2.32 [posible ganadora]\n",
    "#otra (no creo tanto): 0.72 & 1.42 -> 2.4\n",
    "\n",
    "# get_alpha(ruta, id1, 0.72,1.5,0.26,1.78, \"red\", id1)\n"
   ]
  },
  {
   "cell_type": "markdown",
   "metadata": {},
   "source": [
    "#### PRUEBA 2 $\\rightarrow$ LPV\n",
    "\n",
    "ID: 1206181040794128810"
   ]
  },
  {
   "cell_type": "code",
   "execution_count": 9,
   "metadata": {},
   "outputs": [],
   "source": [
    "#0.85 & 1.34 -> 1.58\n",
    "#otra opcion: 0.65  & 1.398 -> 2.19 [posible ganadora]\n",
    "#otra: 0.695 & 1.398 -> 2.19 [mismo pero mejor]\n",
    "\n",
    "# get_alpha(ruta,id2,0.78,1.435,0.3,1.75, \"red\", id2)\n"
   ]
  },
  {
   "cell_type": "markdown",
   "metadata": {},
   "source": [
    "#### PRUEBA 3 $\\rightarrow$ LPV\n",
    "\n",
    "ID: 1412301211134147029"
   ]
  },
  {
   "cell_type": "code",
   "execution_count": 10,
   "metadata": {},
   "outputs": [],
   "source": [
    "\n",
    "\n",
    "# get_alpha(ruta,id3,0.70,1.39,0.3,1.75, \"red\", id3)\n"
   ]
  },
  {
   "cell_type": "markdown",
   "metadata": {},
   "source": [
    "#### PRUEBA 4 $\\rightarrow$ LPV\n",
    "\n",
    "ID: 1202251040804151905"
   ]
  },
  {
   "cell_type": "code",
   "execution_count": 11,
   "metadata": {},
   "outputs": [],
   "source": [
    "\n",
    "#dudo un poco \n",
    "\n",
    "# get_alpha(ruta,id4,0.90,1.49,0.3,1.75, \"red\", id4)\n"
   ]
  },
  {
   "cell_type": "markdown",
   "metadata": {},
   "source": [
    "#### PRUEBA 5 $\\rightarrow$ LPV\n",
    "\n",
    "ID: 1302141290364160994"
   ]
  },
  {
   "cell_type": "code",
   "execution_count": 12,
   "metadata": {},
   "outputs": [],
   "source": [
    "\n",
    "\n",
    "# get_alpha(ruta,id5,0.73,1.42,0.3,1.75, \"red\", id5)\n"
   ]
  },
  {
   "cell_type": "code",
   "execution_count": null,
   "metadata": {},
   "outputs": [],
   "source": []
  }
 ],
 "metadata": {
  "kernelspec": {
   "display_name": "Python 3",
   "language": "python",
   "name": "python3"
  },
  "language_info": {
   "codemirror_mode": {
    "name": "ipython",
    "version": 3
   },
   "file_extension": ".py",
   "mimetype": "text/x-python",
   "name": "python",
   "nbconvert_exporter": "python",
   "pygments_lexer": "ipython3",
   "version": "3.11.3"
  }
 },
 "nbformat": 4,
 "nbformat_minor": 2
}
