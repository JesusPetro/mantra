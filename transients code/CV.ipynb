{
 "cells": [
  {
   "cell_type": "code",
   "execution_count": 4,
   "metadata": {},
   "outputs": [],
   "source": [
    "import pandas as pd\n",
    "import random\n",
    "import matplotlib.pyplot as plt \n",
    "import numpy as np \n",
    "from visibility_graph import visibility_graph\n",
    "import networkx as nx\n",
    "import statsmodels.api as sm\n",
    "import os\n",
    "\n",
    "ruta = '../CV/'\n",
    "edge = '../CV/edgeList/'\n",
    "\n",
    "if not os.path.exists(ruta):\n",
    "    os.makedirs(ruta)\n",
    "    \n",
    "if not os.path.exists(edge):\n",
    "    os.makedirs(edge)"
   ]
  },
  {
   "cell_type": "code",
   "execution_count": 20,
   "metadata": {},
   "outputs": [],
   "source": [
    "def lista0 (lista1, lista2):\n",
    "    while 0 in lista1:\n",
    "        lista2.pop(lista1.index(0))\n",
    "        lista1.remove(0)\n",
    "    return lista1, lista2 \n",
    "\n",
    "def get_alpha(route,id, li_fit, ls_fit, xlimi, xlims, color, name):\n",
    "    \n",
    "    data = f'{route}{id}'\n",
    "    routeSaved = f'{route}pdf/'\n",
    "\n",
    "    if not os.path.exists(routeSaved):\n",
    "        os.makedirs(routeSaved)\n",
    "\n",
    "    #manejo del grafo y grados.\n",
    "    G = nx.read_edgelist(data,nodetype=int) # leemos el grafo\n",
    "    degree_count =  nx.degree_histogram(G) \n",
    "    degrees = list(range(0, len(degree_count)))\n",
    "\n",
    "    degree_count, degrees = lista0(degree_count, degrees)\n",
    "    \n",
    "    #Normalize the degree distribution\n",
    "    degree_distribution = [count/float(sum(degree_count)) for count in degree_count]\n",
    "    x0,y0=np.array(np.log10(degrees)),np.array(np.log10(degree_distribution))\n",
    "    x,y=x0[(x0>=li_fit)&(x0<=ls_fit)],y0[(x0>=li_fit)&(x0<=ls_fit)]\n",
    "\n",
    "\n",
    "    x = sm.add_constant(x)\n",
    "    model = sm.OLS(y, x).fit()\n",
    "\n",
    "    # Plot degree distribution\n",
    "    a=np.linspace(li_fit,ls_fit,10)\n",
    "    \n",
    "\n",
    "    \n",
    "    plt.figure(figsize=(6,4))\n",
    "    plt.plot(x0,y0,color=color,linewidth=0,marker=\"P\",markersize=5,label=\"data\")\n",
    "    plt.plot(a,(a)*(model.params[1])+model.params[0]*1.,color=\"k\",lw=3,label=r\"fit ($\\alpha_0={}$)\".format(-np.round(model.params[1],2)))\n",
    "    plt.xlabel(r'$\\log_{10}(k)$ (Degree)'); plt.ylabel(r'$\\log_{10} P(k)$'); plt.title('Degree Distribution {}'.format(name)); plt.legend(); plt.xlim(xlimi,xlims)\n",
    "    plt.legend(title=r\"$P(k)\\sim x^{-\\alpha_0}$\"); plt.grid(alpha=0.5)\n",
    "    plt.savefig(routeSaved+f'{id}.pdf',dpi=400,bbox_inches='tight')\n",
    "    plt.show()\n",
    "\n",
    "    return"
   ]
  },
  {
   "cell_type": "code",
   "execution_count": 6,
   "metadata": {},
   "outputs": [
    {
     "data": {
      "text/html": [
       "<div>\n",
       "<style scoped>\n",
       "    .dataframe tbody tr th:only-of-type {\n",
       "        vertical-align: middle;\n",
       "    }\n",
       "\n",
       "    .dataframe tbody tr th {\n",
       "        vertical-align: top;\n",
       "    }\n",
       "\n",
       "    .dataframe thead th {\n",
       "        text-align: right;\n",
       "    }\n",
       "</style>\n",
       "<table border=\"1\" class=\"dataframe\">\n",
       "  <thead>\n",
       "    <tr style=\"text-align: right;\">\n",
       "      <th></th>\n",
       "      <th>Classification</th>\n",
       "      <th>ID</th>\n",
       "      <th>observation_id</th>\n",
       "      <th>Mag</th>\n",
       "      <th>Magerr</th>\n",
       "      <th>MJD</th>\n",
       "    </tr>\n",
       "  </thead>\n",
       "  <tbody>\n",
       "    <tr>\n",
       "      <th>0</th>\n",
       "      <td>CV</td>\n",
       "      <td>1006010010864157554</td>\n",
       "      <td>309104</td>\n",
       "      <td>18.5252</td>\n",
       "      <td>0.148693</td>\n",
       "      <td>54600.339487</td>\n",
       "    </tr>\n",
       "    <tr>\n",
       "      <th>1</th>\n",
       "      <td>CV</td>\n",
       "      <td>1006010010864157554</td>\n",
       "      <td>309106</td>\n",
       "      <td>18.5661</td>\n",
       "      <td>0.152442</td>\n",
       "      <td>54600.352538</td>\n",
       "    </tr>\n",
       "    <tr>\n",
       "      <th>2</th>\n",
       "      <td>CV</td>\n",
       "      <td>1006010010864157554</td>\n",
       "      <td>309107</td>\n",
       "      <td>18.3649</td>\n",
       "      <td>0.139258</td>\n",
       "      <td>54937.398087</td>\n",
       "    </tr>\n",
       "    <tr>\n",
       "      <th>3</th>\n",
       "      <td>CV</td>\n",
       "      <td>1006010010864157554</td>\n",
       "      <td>309108</td>\n",
       "      <td>18.2922</td>\n",
       "      <td>0.135098</td>\n",
       "      <td>54937.402902</td>\n",
       "    </tr>\n",
       "    <tr>\n",
       "      <th>4</th>\n",
       "      <td>CV</td>\n",
       "      <td>1006010010864157554</td>\n",
       "      <td>309109</td>\n",
       "      <td>18.3094</td>\n",
       "      <td>0.137790</td>\n",
       "      <td>54937.407789</td>\n",
       "    </tr>\n",
       "    <tr>\n",
       "      <th>...</th>\n",
       "      <td>...</td>\n",
       "      <td>...</td>\n",
       "      <td>...</td>\n",
       "      <td>...</td>\n",
       "      <td>...</td>\n",
       "      <td>...</td>\n",
       "    </tr>\n",
       "    <tr>\n",
       "      <th>47462</th>\n",
       "      <td>CV</td>\n",
       "      <td>1110061320094139400</td>\n",
       "      <td>33801</td>\n",
       "      <td>18.2165</td>\n",
       "      <td>0.122443</td>\n",
       "      <td>55618.098361</td>\n",
       "    </tr>\n",
       "    <tr>\n",
       "      <th>47463</th>\n",
       "      <td>CV</td>\n",
       "      <td>1110061320094139400</td>\n",
       "      <td>33784</td>\n",
       "      <td>18.4069</td>\n",
       "      <td>0.129043</td>\n",
       "      <td>55540.165107</td>\n",
       "    </tr>\n",
       "    <tr>\n",
       "      <th>47464</th>\n",
       "      <td>CV</td>\n",
       "      <td>1110061320094139400</td>\n",
       "      <td>33783</td>\n",
       "      <td>18.4379</td>\n",
       "      <td>0.132841</td>\n",
       "      <td>55540.162850</td>\n",
       "    </tr>\n",
       "    <tr>\n",
       "      <th>47465</th>\n",
       "      <td>CV</td>\n",
       "      <td>1110061320094139400</td>\n",
       "      <td>33782</td>\n",
       "      <td>18.7141</td>\n",
       "      <td>0.146389</td>\n",
       "      <td>55540.158320</td>\n",
       "    </tr>\n",
       "    <tr>\n",
       "      <th>47466</th>\n",
       "      <td>CV</td>\n",
       "      <td>1110061320094139400</td>\n",
       "      <td>33751</td>\n",
       "      <td>19.1054</td>\n",
       "      <td>0.175074</td>\n",
       "      <td>55143.348598</td>\n",
       "    </tr>\n",
       "  </tbody>\n",
       "</table>\n",
       "<p>47467 rows × 6 columns</p>\n",
       "</div>"
      ],
      "text/plain": [
       "      Classification                   ID  observation_id      Mag    Magerr   \n",
       "0                 CV  1006010010864157554          309104  18.5252  0.148693  \\\n",
       "1                 CV  1006010010864157554          309106  18.5661  0.152442   \n",
       "2                 CV  1006010010864157554          309107  18.3649  0.139258   \n",
       "3                 CV  1006010010864157554          309108  18.2922  0.135098   \n",
       "4                 CV  1006010010864157554          309109  18.3094  0.137790   \n",
       "...              ...                  ...             ...      ...       ...   \n",
       "47462             CV  1110061320094139400           33801  18.2165  0.122443   \n",
       "47463             CV  1110061320094139400           33784  18.4069  0.129043   \n",
       "47464             CV  1110061320094139400           33783  18.4379  0.132841   \n",
       "47465             CV  1110061320094139400           33782  18.7141  0.146389   \n",
       "47466             CV  1110061320094139400           33751  19.1054  0.175074   \n",
       "\n",
       "                MJD  \n",
       "0      54600.339487  \n",
       "1      54600.352538  \n",
       "2      54937.398087  \n",
       "3      54937.402902  \n",
       "4      54937.407789  \n",
       "...             ...  \n",
       "47462  55618.098361  \n",
       "47463  55540.165107  \n",
       "47464  55540.162850  \n",
       "47465  55540.158320  \n",
       "47466  55143.348598  \n",
       "\n",
       "[47467 rows x 6 columns]"
      ]
     },
     "execution_count": 6,
     "metadata": {},
     "output_type": "execute_result"
    }
   ],
   "source": [
    "cv = pd.read_csv('../transients/CV.csv')\n",
    "cv\n"
   ]
  },
  {
   "cell_type": "code",
   "execution_count": 10,
   "metadata": {},
   "outputs": [
    {
     "name": "stdout",
     "output_type": "stream",
     "text": [
      "130\n"
     ]
    },
    {
     "data": {
      "text/plain": [
       "array([1006010010864157554, 1005311150714116242, 1005201181164141253,\n",
       "       1005221320424122472,  910191071174104173, 1005240041134109468,\n",
       "       1005190041194148620,  806111011244115704, 1011081230504119481,\n",
       "       1010091290054106863,  909221290444111464,  812311430294141229,\n",
       "        909231150844135447, 1009161290084131880, 1401011150654104472,\n",
       "       1006241041184114393, 1006101261134132083,  909301120444140061,\n",
       "       1006091120874119140, 1206171090824101743, 1206130011154131139,\n",
       "       1111161070254130896,  711081290154130838,  909281260174155619,\n",
       "       1006151091174130008,  805051090884151996, 1002021180433134193,\n",
       "       1002171210554127510,  810301010244104094, 1003251350714125894,\n",
       "        811181230214118218, 1003211090274101591,  909281091224142365,\n",
       "       1012031380394141353, 1001081010294129406,  812011090264120935,\n",
       "        811071180194106816, 1003131090504109287,  810280041154254954,\n",
       "       1002191010224113664,  912201320034112505, 1011281090284102188,\n",
       "       1012031380384133667, 1007071040904138258, 1007051120874117074,\n",
       "        804281380714144091, 1309141091134108958, 1601211180424141819,\n",
       "       1512011120274154794, 1609061180834144443, 1511201320364108282,\n",
       "       1210040041124149411, 1202261260634124245, 1402181150484139804,\n",
       "       1512081320174144890, 1309161230834137353, 1311061010294118517,\n",
       "       1210041071154132318, 1209231181154135712, 1308280011124107474,\n",
       "       1603171180824123493, 1112310040214127410, 1506191041214138198,\n",
       "       1112271181144146614, 1602261380334117968, 1111221040194145937,\n",
       "       1505201041144118399, 1502101260114122698, 1311061180184119159,\n",
       "       1312141121244117885, 1411171260164123577, 1306041151144145470,\n",
       "       1212031040224128186, 1211201210114118379, 1211121320074127003,\n",
       "       1210141071214123192, 1102081010474158290,  804271320724132848,\n",
       "        804271290604119048, 1102261230574109109,  909181260024124094,\n",
       "        909111151154137804,  801301090584117826,  711151400724125465,\n",
       "        909171181144114493,  902190010214113713,  802271010724123230,\n",
       "       1110191350734141576,  904021180524130924,  903161150564121087,\n",
       "        804161350364129084,  901181040484106855, 1101111090594116852,\n",
       "        804281090894104463, 1111011291114153567,  903291210784144089,\n",
       "        904011350464101119,  903010040574110292,  904161120864151070,\n",
       "        902221430424130546, 1110211321074152444,  803290010784136859,\n",
       "        906221181134169457, 1104041230404151904,  803051320384107064,\n",
       "       1105130041134149159,  906011070824151155,  902131210184107976,\n",
       "        906271291124104954,  902051150894115932, 1012101320084121519,\n",
       "        809291090244127420, 1005131230814132089,  810241070224132530,\n",
       "        812201090074110332,  911190011164102559,  910261210054114797,\n",
       "        910221120483113936, 1005061090834125680,  911160011254116087,\n",
       "       1002181010254112737,  904291090564105879,  904181120584134509,\n",
       "        802091040494149927,  905280091124153385, 1106091430394126567,\n",
       "        801301180474127786, 1109201210794130197,  902191010254145868,\n",
       "       1110061320094139400], dtype=int64)"
      ]
     },
     "execution_count": 10,
     "metadata": {},
     "output_type": "execute_result"
    }
   ],
   "source": [
    "ids = list(cv['ID'].unique())\n",
    "print(len(list(cv['ID'].unique())))\n",
    "cv['ID'].unique()"
   ]
  },
  {
   "cell_type": "markdown",
   "metadata": {},
   "source": [
    "##### Función para hacer los datos"
   ]
  },
  {
   "cell_type": "code",
   "execution_count": 8,
   "metadata": {},
   "outputs": [],
   "source": [
    "#funcion que haga eso de forma automatica\n",
    "\n",
    "def edgelist(id):\n",
    "    vec_id = cv[cv['ID'] == id]['Mag']\n",
    "    graph_id = visibility_graph(vec_id)\n",
    "    nx.write_edgelist(graph_id, f'{ruta}edgeList/{id}')\n"
   ]
  },
  {
   "cell_type": "markdown",
   "metadata": {},
   "source": [
    "#### Indices de los id's a probar (sacado aleatoreamente)\n",
    "\n",
    "id1: 77\n",
    "\n",
    "id2: 84\n",
    "\n",
    "id3: 11\n",
    "\n",
    "id4: 96\n",
    "\n",
    "id5: 29"
   ]
  },
  {
   "cell_type": "code",
   "execution_count": 14,
   "metadata": {},
   "outputs": [
    {
     "data": {
      "text/plain": [
       "' id1 = 804271320724132848\\nid2 = 909171181144114493\\nid3 = 812311430294141229\\nid4 = 904011350464101119\\nid5 = 1003251350714125894\\n\\n\\nedgelist(id1)\\nedgelist(id2)\\nedgelist(id3)\\nedgelist(id4)\\nedgelist(id5) '"
      ]
     },
     "execution_count": 14,
     "metadata": {},
     "output_type": "execute_result"
    }
   ],
   "source": [
    "ids_group =  [902191010254145868, 711151400724125465, 911190011164102559, 901181040484106855, 1007051120874117074, \n",
    "              1411171260164123577, 902221430424130546, 1506191041214138198, 810280041154254954, 1110191350734141576, \n",
    "              904181120584134509, 1211121320074127003, 909281260174155619, 1102081010474158290, 811071180194106816]\n",
    "\n",
    "\"\"\" id1 = 804271320724132848\n",
    "id2 = 909171181144114493\n",
    "id3 = 812311430294141229\n",
    "id4 = 904011350464101119\n",
    "id5 = 1003251350714125894\n",
    "\n",
    "\n",
    "edgelist(id1)\n",
    "edgelist(id2)\n",
    "edgelist(id3)\n",
    "edgelist(id4)\n",
    "edgelist(id5) \"\"\"\n",
    "\n",
    "\n",
    "#TODO: Realizar las pruebas de la 2 en adelante"
   ]
  },
  {
   "cell_type": "code",
   "execution_count": 8,
   "metadata": {},
   "outputs": [],
   "source": [
    "values_min = [0.77, 0.84, 0.77, 0.62, 0.79, 0.765, 0.84, 0.67, 0.76, 0.785, 0.70, 0.77, 0.78, 0.79, 0.80]\n",
    "values_max = [1.41, 1.55, 1.35, 1.39, 1.44, 1.390, 1.37, 1.42, 1.42, 1.335, 1.48, 1.42, 1.44, 1.42, 1.34]\n",
    "values_alpha = [2.39, 1.93, 2.84, 2.4, 2.29, 2.57, 2.67, 2.25, 2.43, 2.9, 2.19, 2.42, 2.41, 2.4, 2.7]"
   ]
  },
  {
   "cell_type": "code",
   "execution_count": 26,
   "metadata": {},
   "outputs": [],
   "source": [
    "def get_alpha_data(route,id, li_fit, ls_fit, name):\n",
    "    \n",
    "    data = f'{edge}{id}'\n",
    "    \n",
    "    #manejo del grafo y grados.\n",
    "    G = nx.read_edgelist(data,nodetype=int) # leemos el grafo\n",
    "    degree_count =  nx.degree_histogram(G) \n",
    "    degrees = list(range(0, len(degree_count)))\n",
    "\n",
    "    degree_count, degrees = lista0(degree_count, degrees)\n",
    "    \n",
    "    #Normalize the degree distribution\n",
    "    degree_distribution = [count/float(sum(degree_count)) for count in degree_count]\n",
    "    x0,y0=np.array(np.log10(degrees)),np.array(np.log10(degree_distribution))\n",
    "    x,y=x0[(x0>=li_fit)&(x0<=ls_fit)],y0[(x0>=li_fit)&(x0<=ls_fit)]\n",
    "\n",
    "\n",
    "    x = sm.add_constant(x)\n",
    "    model = sm.OLS(y, x).fit()\n",
    "\n",
    "    alpha = -np.round(model.params[1],2)\n",
    "    values = [name,id,alpha]\n",
    "    \n",
    "    return values"
   ]
  },
  {
   "cell_type": "code",
   "execution_count": 27,
   "metadata": {},
   "outputs": [
    {
     "name": "stdout",
     "output_type": "stream",
     "text": [
      "[['CV', 1006010010864157554, 2.48], ['CV', 1005311150714116242, 2.46], ['CV', 1005201181164141253, 2.39], ['CV', 1005221320424122472, 2.59], ['CV', 910191071174104173, 2.58], ['CV', 1005240041134109468, 2.55], ['CV', 1005190041194148620, 2.28], ['CV', 806111011244115704, 2.13], ['CV', 1011081230504119481, 2.65], ['CV', 1010091290054106863, 2.27], ['CV', 909221290444111464, 2.63], ['CV', 812311430294141229, 2.87], ['CV', 909231150844135447, 2.45], ['CV', 1009161290084131880, 2.3], ['CV', 1401011150654104472, 2.57], ['CV', 1006241041184114393, 2.48], ['CV', 1006101261134132083, 2.27], ['CV', 909301120444140061, 2.59], ['CV', 1006091120874119140, 2.44], ['CV', 1206171090824101743, 2.51], ['CV', 1206130011154131139, 2.22], ['CV', 1111161070254130896, 2.39], ['CV', 711081290154130838, 2.48], ['CV', 909281260174155619, 2.4], ['CV', 1006151091174130008, 2.04], ['CV', 805051090884151996, 2.19], ['CV', 1002021180433134193, 2.14], ['CV', 1002171210554127510, 2.57], ['CV', 810301010244104094, 2.45], ['CV', 1003251350714125894, 2.25], ['CV', 811181230214118218, 2.62], ['CV', 1003211090274101591, 2.39], ['CV', 909281091224142365, 2.72], ['CV', 1012031380394141353, 3.0], ['CV', 1001081010294129406, 2.71], ['CV', 812011090264120935, 2.7], ['CV', 811071180194106816, 2.55], ['CV', 1003131090504109287, 2.46], ['CV', 810280041154254954, 2.43], ['CV', 1002191010224113664, 2.43], ['CV', 912201320034112505, 2.52], ['CV', 1011281090284102188, 2.27], ['CV', 1012031380384133667, 2.26], ['CV', 1007071040904138258, 2.57], ['CV', 1007051120874117074, 2.24], ['CV', 804281380714144091, 2.74], ['CV', 1309141091134108958, 2.52], ['CV', 1601211180424141819, 2.82], ['CV', 1512011120274154794, 2.54], ['CV', 1609061180834144443, 2.29], ['CV', 1511201320364108282, 2.6], ['CV', 1210040041124149411, 2.67], ['CV', 1202261260634124245, 2.53], ['CV', 1402181150484139804, 2.8], ['CV', 1512081320174144890, 2.58], ['CV', 1309161230834137353, 2.38], ['CV', 1311061010294118517, 2.64], ['CV', 1210041071154132318, 2.45], ['CV', 1209231181154135712, 2.39], ['CV', 1308280011124107474, 2.54], ['CV', 1603171180824123493, 2.28], ['CV', 1112310040214127410, 2.32], ['CV', 1506191041214138198, 2.18], ['CV', 1112271181144146614, 2.09], ['CV', 1602261380334117968, 2.64], ['CV', 1111221040194145937, 2.59], ['CV', 1505201041144118399, 2.51], ['CV', 1502101260114122698, 2.09], ['CV', 1311061180184119159, 2.39], ['CV', 1312141121244117885, 2.9], ['CV', 1411171260164123577, 2.57], ['CV', 1306041151144145470, 2.29], ['CV', 1212031040224128186, 2.76], ['CV', 1211201210114118379, 2.54], ['CV', 1211121320074127003, 2.42], ['CV', 1210141071214123192, 2.21], ['CV', 1102081010474158290, 2.37], ['CV', 804271320724132848, 2.24], ['CV', 804271290604119048, 2.15], ['CV', 1102261230574109109, 2.62], ['CV', 909181260024124094, 2.54], ['CV', 909111151154137804, 2.35], ['CV', 801301090584117826, 2.48], ['CV', 711151400724125465, 2.33], ['CV', 909171181144114493, 2.23], ['CV', 902190010214113713, 2.33], ['CV', 802271010724123230, 2.73], ['CV', 1110191350734141576, 2.86], ['CV', 904021180524130924, 3.02], ['CV', 903161150564121087, 2.42], ['CV', 804161350364129084, 2.33], ['CV', 901181040484106855, 2.46], ['CV', 1101111090594116852, 2.15], ['CV', 804281090894104463, 2.59], ['CV', 1111011291114153567, 2.33], ['CV', 903291210784144089, 2.36], ['CV', 904011350464101119, 2.19], ['CV', 903010040574110292, 2.21], ['CV', 904161120864151070, 2.42], ['CV', 902221430424130546, 2.6], ['CV', 1110211321074152444, 2.41], ['CV', 803290010784136859, 2.63], ['CV', 906221181134169457, 2.36], ['CV', 1104041230404151904, 2.64], ['CV', 803051320384107064, 2.67], ['CV', 1105130041134149159, 2.55], ['CV', 906011070824151155, 2.58], ['CV', 902131210184107976, 2.48], ['CV', 906271291124104954, 2.57], ['CV', 902051150894115932, 2.25], ['CV', 1012101320084121519, 1.97], ['CV', 809291090244127420, 2.86], ['CV', 1005131230814132089, 2.62], ['CV', 810241070224132530, 2.2], ['CV', 812201090074110332, 2.44], ['CV', 911190011164102559, 2.81], ['CV', 910261210054114797, 2.4], ['CV', 910221120483113936, 2.19], ['CV', 1005061090834125680, 2.45], ['CV', 911160011254116087, 2.33], ['CV', 1002181010254112737, 2.54], ['CV', 904291090564105879, 2.42], ['CV', 904181120584134509, 2.1], ['CV', 802091040494149927, 2.32], ['CV', 905280091124153385, 1.98], ['CV', 1106091430394126567, 2.51], ['CV', 801301180474127786, 2.69], ['CV', 1109201210794130197, 2.55], ['CV', 902191010254145868, 2.39], ['CV', 1110061320094139400, 2.38]]\n"
     ]
    }
   ],
   "source": [
    "values = []\n",
    "for id in ids:\n",
    "    values.append(get_alpha_data(edge, id, 0.763, 1.412, 'CV')) \n",
    "\n",
    "print(values)"
   ]
  },
  {
   "cell_type": "code",
   "execution_count": 28,
   "metadata": {},
   "outputs": [],
   "source": [
    "import csv \n",
    "\n",
    "ruta = '../resultados/prueba.csv'\n",
    "\n",
    "with open (ruta, mode = 'a', newline = '') as archivo: \n",
    "    writer = csv.writer(archivo)\n",
    "\n",
    "    writer.writerows(values)\n",
    "    pass"
   ]
  },
  {
   "cell_type": "code",
   "execution_count": 21,
   "metadata": {},
   "outputs": [
    {
     "name": "stdout",
     "output_type": "stream",
     "text": [
      "2.7\n"
     ]
    },
    {
     "data": {
      "image/png": "[encoded data removed]",
      "text/plain": [
       "<Figure size 600x400 with 1 Axes>"
      ]
     },
     "metadata": {},
     "output_type": "display_data"
    }
   ],
   "source": [
    "get_alpha(ruta, ids_group[14], 0.8, 1.34, 0.26,1.78, \"red\", ids_group[14])"
   ]
  },
  {
   "cell_type": "markdown",
   "metadata": {},
   "source": [
    "#### PRUEBA 1 $\\rightarrow$ CV\n",
    "\n",
    "ID: 804271320724132848"
   ]
  },
  {
   "cell_type": "code",
   "execution_count": 10,
   "metadata": {},
   "outputs": [],
   "source": [
    "#0.85 & 1.34 -> 3.0\n",
    "#0.76 & 1.45 -> 2.16\n",
    "\n",
    "# get_alpha(ruta, id1, 0.76 ,1.45,0.26,1.78, \"red\", id1)\n"
   ]
  },
  {
   "cell_type": "markdown",
   "metadata": {},
   "source": [
    "#### PRUEBA 2 $\\rightarrow$ CV\n",
    "\n",
    "ID: 909171181144114493"
   ]
  },
  {
   "cell_type": "code",
   "execution_count": 11,
   "metadata": {},
   "outputs": [],
   "source": [
    "#0.85 & 1.34 -> 3.0\n",
    "#0.76 & 1.45 -> 2.16\n",
    "\n",
    "# get_alpha(ruta, id2, 0.76 ,1.44,0.26,1.78, \"red\", id2)\n"
   ]
  },
  {
   "cell_type": "markdown",
   "metadata": {},
   "source": [
    "#### PRUEBA 3 $\\rightarrow$ CV\n",
    "\n",
    "ID: 812311430294141229"
   ]
  },
  {
   "cell_type": "code",
   "execution_count": 12,
   "metadata": {},
   "outputs": [],
   "source": [
    "\n",
    "# get_alpha(ruta, id3, 0.886 ,1.275,0.26,1.78, \"red\", id3)\n"
   ]
  },
  {
   "cell_type": "code",
   "execution_count": 13,
   "metadata": {},
   "outputs": [],
   "source": [
    "\n",
    "# get_alpha(ruta, id3, 0.89 ,1.275,0.26,1.78, \"red\", id3)\n"
   ]
  },
  {
   "cell_type": "markdown",
   "metadata": {},
   "source": [
    "#### PRUEBA 4 $\\rightarrow$ CV\n",
    "\n",
    "ID: 904011350464101119"
   ]
  },
  {
   "cell_type": "code",
   "execution_count": 14,
   "metadata": {},
   "outputs": [],
   "source": [
    "\n",
    "# get_alpha(ruta, id4, 0.78 ,1.48,0.26,1.78, \"red\", id4)\n"
   ]
  },
  {
   "cell_type": "markdown",
   "metadata": {},
   "source": [
    "#### PRUEBA 5 $\\rightarrow$ CV\n",
    "\n",
    "ID: 1003251350714125894"
   ]
  },
  {
   "cell_type": "code",
   "execution_count": 15,
   "metadata": {},
   "outputs": [],
   "source": [
    "\n",
    "# get_alpha(ruta, id5, 0.76 ,1.45,0.26,1.78, \"red\", id5)\n"
   ]
  }
 ],
 "metadata": {
  "kernelspec": {
   "display_name": "Python 3",
   "language": "python",
   "name": "python3"
  },
  "language_info": {
   "codemirror_mode": {
    "name": "ipython",
    "version": 3
   },
   "file_extension": ".py",
   "mimetype": "text/x-python",
   "name": "python",
   "nbconvert_exporter": "python",
   "pygments_lexer": "ipython3",
   "version": "3.11.3"
  }
 },
 "nbformat": 4,
 "nbformat_minor": 2
}
