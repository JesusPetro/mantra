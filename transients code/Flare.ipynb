{
 "cells": [
  {
   "cell_type": "code",
   "execution_count": 2,
   "metadata": {},
   "outputs": [],
   "source": [
    "import pandas as pd\n",
    "import random\n",
    "import matplotlib.pyplot as plt \n",
    "import numpy as np \n",
    "from visibility_graph import visibility_graph\n",
    "import networkx as nx\n",
    "import statsmodels.api as sm\n",
    "import os\n",
    "\n",
    "ruta = '../Flare/'\n",
    "\n",
    "edge = '../Flare/edgeList/'\n",
    "\n",
    "if not os.path.exists(ruta):\n",
    "    os.makedirs(ruta)\n",
    "    \n",
    "if not os.path.exists(edge):\n",
    "    os.makedirs(edge)"
   ]
  },
  {
   "cell_type": "code",
   "execution_count": 3,
   "metadata": {},
   "outputs": [],
   "source": [
    "def lista0 (lista1, lista2):\n",
    "    while 0 in lista1:\n",
    "        lista2.pop(lista1.index(0))\n",
    "        lista1.remove(0)\n",
    "    return lista1, lista2 \n",
    "\n",
    "def get_alpha(route,id, li_fit, ls_fit, xlimi, xlims, color, name):\n",
    "    \n",
    "    data = f'{route}{id}'\n",
    "    routeSaved = f'{route}pdf/'\n",
    "\n",
    "    if not os.path.exists(routeSaved):\n",
    "        os.makedirs(routeSaved)\n",
    "\n",
    "    #manejo del grafo y grados.\n",
    "    G = nx.read_edgelist(data,nodetype=int) # leemos el grafo\n",
    "    degree_count =  nx.degree_histogram(G) \n",
    "    degrees = list(range(0, len(degree_count)))\n",
    "\n",
    "    degree_count, degrees = lista0(degree_count, degrees)\n",
    "    \n",
    "    #Normalize the degree distribution\n",
    "    degree_distribution = [count/float(sum(degree_count)) for count in degree_count]\n",
    "    x0,y0=np.array(np.log10(degrees)),np.array(np.log10(degree_distribution))\n",
    "    x,y=x0[(x0>=li_fit)&(x0<=ls_fit)],y0[(x0>=li_fit)&(x0<=ls_fit)]\n",
    "\n",
    "\n",
    "    x = sm.add_constant(x)\n",
    "    model = sm.OLS(y, x).fit()\n",
    "\n",
    "    # Plot degree distribution\n",
    "    a=np.linspace(li_fit,ls_fit,10)\n",
    "    \n",
    "\n",
    "    plt.figure(figsize=(6,4))\n",
    "    plt.plot(x0,y0,color=color,linewidth=0,marker=\"P\",markersize=5,label=\"data\")\n",
    "    plt.plot(a,(a)*(model.params[1])+model.params[0]*1.,color=\"k\",lw=3,label=r\"fit ($\\alpha_0={}$)\".format(-np.round(model.params[1],2)))\n",
    "    plt.xlabel(r'$\\log_{10}(k)$ (Degree)'); plt.ylabel(r'$\\log_{10} P(k)$'); plt.title('Degree Distribution {}'.format(name)); plt.legend(); plt.xlim(xlimi,xlims)\n",
    "    plt.legend(title=r\"$P(k)\\sim x^{-\\alpha_0}$\"); plt.grid(alpha=0.5)\n",
    "    plt.savefig(routeSaved+f'{id}.pdf',dpi=400,bbox_inches='tight')\n",
    "    plt.show()\n",
    "\n",
    "    return"
   ]
  },
  {
   "cell_type": "code",
   "execution_count": 4,
   "metadata": {},
   "outputs": [
    {
     "data": {
      "text/html": [
       "<div>\n",
       "<style scoped>\n",
       "    .dataframe tbody tr th:only-of-type {\n",
       "        vertical-align: middle;\n",
       "    }\n",
       "\n",
       "    .dataframe tbody tr th {\n",
       "        vertical-align: top;\n",
       "    }\n",
       "\n",
       "    .dataframe thead th {\n",
       "        text-align: right;\n",
       "    }\n",
       "</style>\n",
       "<table border=\"1\" class=\"dataframe\">\n",
       "  <thead>\n",
       "    <tr style=\"text-align: right;\">\n",
       "      <th></th>\n",
       "      <th>Classification</th>\n",
       "      <th>ID</th>\n",
       "      <th>observation_id</th>\n",
       "      <th>Mag</th>\n",
       "      <th>Magerr</th>\n",
       "      <th>MJD</th>\n",
       "    </tr>\n",
       "  </thead>\n",
       "  <tbody>\n",
       "    <tr>\n",
       "      <th>0</th>\n",
       "      <td>Flare</td>\n",
       "      <td>1211131320034233281</td>\n",
       "      <td>9380</td>\n",
       "      <td>18.6006</td>\n",
       "      <td>0.138104</td>\n",
       "      <td>54452.152868</td>\n",
       "    </tr>\n",
       "    <tr>\n",
       "      <th>1</th>\n",
       "      <td>Flare</td>\n",
       "      <td>1211131320034233281</td>\n",
       "      <td>9379</td>\n",
       "      <td>18.7354</td>\n",
       "      <td>0.146056</td>\n",
       "      <td>54452.146371</td>\n",
       "    </tr>\n",
       "    <tr>\n",
       "      <th>2</th>\n",
       "      <td>Flare</td>\n",
       "      <td>1211131320034233281</td>\n",
       "      <td>9378</td>\n",
       "      <td>18.5499</td>\n",
       "      <td>0.135435</td>\n",
       "      <td>54452.139895</td>\n",
       "    </tr>\n",
       "    <tr>\n",
       "      <th>3</th>\n",
       "      <td>Flare</td>\n",
       "      <td>1211131320034233281</td>\n",
       "      <td>9377</td>\n",
       "      <td>15.9052</td>\n",
       "      <td>0.064506</td>\n",
       "      <td>54003.245989</td>\n",
       "    </tr>\n",
       "    <tr>\n",
       "      <th>4</th>\n",
       "      <td>Flare</td>\n",
       "      <td>1211131320034233281</td>\n",
       "      <td>9376</td>\n",
       "      <td>15.9410</td>\n",
       "      <td>0.064964</td>\n",
       "      <td>54003.237835</td>\n",
       "    </tr>\n",
       "    <tr>\n",
       "      <th>...</th>\n",
       "      <td>...</td>\n",
       "      <td>...</td>\n",
       "      <td>...</td>\n",
       "      <td>...</td>\n",
       "      <td>...</td>\n",
       "      <td>...</td>\n",
       "    </tr>\n",
       "    <tr>\n",
       "      <th>21212</th>\n",
       "      <td>Flare</td>\n",
       "      <td>1505121180464109343</td>\n",
       "      <td>138153</td>\n",
       "      <td>18.5787</td>\n",
       "      <td>0.137524</td>\n",
       "      <td>55501.492099</td>\n",
       "    </tr>\n",
       "    <tr>\n",
       "      <th>21213</th>\n",
       "      <td>Flare</td>\n",
       "      <td>1505121180464109343</td>\n",
       "      <td>138152</td>\n",
       "      <td>18.2738</td>\n",
       "      <td>0.150056</td>\n",
       "      <td>55341.165719</td>\n",
       "    </tr>\n",
       "    <tr>\n",
       "      <th>21214</th>\n",
       "      <td>Flare</td>\n",
       "      <td>1505121180464109343</td>\n",
       "      <td>138122</td>\n",
       "      <td>18.5708</td>\n",
       "      <td>0.158313</td>\n",
       "      <td>55545.356086</td>\n",
       "    </tr>\n",
       "    <tr>\n",
       "      <th>21215</th>\n",
       "      <td>Flare</td>\n",
       "      <td>1505121180464109343</td>\n",
       "      <td>138157</td>\n",
       "      <td>18.5821</td>\n",
       "      <td>0.138324</td>\n",
       "      <td>55510.478850</td>\n",
       "    </tr>\n",
       "    <tr>\n",
       "      <th>21216</th>\n",
       "      <td>Flare</td>\n",
       "      <td>1505121180464109343</td>\n",
       "      <td>138121</td>\n",
       "      <td>18.4445</td>\n",
       "      <td>0.149463</td>\n",
       "      <td>55545.348728</td>\n",
       "    </tr>\n",
       "  </tbody>\n",
       "</table>\n",
       "<p>21217 rows × 6 columns</p>\n",
       "</div>"
      ],
      "text/plain": [
       "      Classification                   ID  observation_id      Mag    Magerr   \n",
       "0              Flare  1211131320034233281            9380  18.6006  0.138104  \\\n",
       "1              Flare  1211131320034233281            9379  18.7354  0.146056   \n",
       "2              Flare  1211131320034233281            9378  18.5499  0.135435   \n",
       "3              Flare  1211131320034233281            9377  15.9052  0.064506   \n",
       "4              Flare  1211131320034233281            9376  15.9410  0.064964   \n",
       "...              ...                  ...             ...      ...       ...   \n",
       "21212          Flare  1505121180464109343          138153  18.5787  0.137524   \n",
       "21213          Flare  1505121180464109343          138152  18.2738  0.150056   \n",
       "21214          Flare  1505121180464109343          138122  18.5708  0.158313   \n",
       "21215          Flare  1505121180464109343          138157  18.5821  0.138324   \n",
       "21216          Flare  1505121180464109343          138121  18.4445  0.149463   \n",
       "\n",
       "                MJD  \n",
       "0      54452.152868  \n",
       "1      54452.146371  \n",
       "2      54452.139895  \n",
       "3      54003.245989  \n",
       "4      54003.237835  \n",
       "...             ...  \n",
       "21212  55501.492099  \n",
       "21213  55341.165719  \n",
       "21214  55545.356086  \n",
       "21215  55510.478850  \n",
       "21216  55545.348728  \n",
       "\n",
       "[21217 rows x 6 columns]"
      ]
     },
     "execution_count": 4,
     "metadata": {},
     "output_type": "execute_result"
    }
   ],
   "source": [
    "flare = pd.read_csv('../transients/Flare.csv')\n",
    "flare\n"
   ]
  },
  {
   "cell_type": "code",
   "execution_count": 5,
   "metadata": {},
   "outputs": [
    {
     "name": "stdout",
     "output_type": "stream",
     "text": [
      "59\n"
     ]
    },
    {
     "data": {
      "text/plain": [
       "array([1211131320034233281, 1201251260114103174, 1201141120454117896,\n",
       "       1006181091244116352, 1202271090564148720, 1104041180464131580,\n",
       "       1204111180464108242, 1109260070234114098, 1201301180224121978,\n",
       "       1209141181134129658, 1107031350754120112, 1201271040284172041,\n",
       "       1105261210664103986, 1206221121184125294, 1201301180554121756,\n",
       "       1011101120514117494, 1210081290084113755, 1302181430344101379,\n",
       "       1312241260414106473, 1312251150554112896, 1406281150734103537,\n",
       "       1601311460284115377, 1512161181174138560,  906221151194126593,\n",
       "       1611101400424116462, 1205161380684113569, 1212031040274125613,\n",
       "       1112310010184138365, 1110241430314158229, 1301131010554139998,\n",
       "       1010291040204101820, 1109291090214135845, 1202251040774141275,\n",
       "       1001081010294126339, 1306071320794125262, 1306161290784123559,\n",
       "       1304111230414140313, 1609251231144129676, 1304121230614134803,\n",
       "       1607041211134127847, 1502251150564130121, 1604151230814108369,\n",
       "       1602271120454112778, 1412241090634108769, 1304031120774114435,\n",
       "        911240070224131563, 1303141290134114251, 1606160041184142245,\n",
       "       1303011350574103320, 1312021180214101950,  909281320154111937,\n",
       "       1511141320394124088, 1505121180464109343, 1505011120834122816,\n",
       "       1504161150534121066, 1310221260034120370, 1410011070104121118,\n",
       "       1410221260164120719, 1510091151184109040], dtype=int64)"
      ]
     },
     "execution_count": 5,
     "metadata": {},
     "output_type": "execute_result"
    }
   ],
   "source": [
    "ids = list(flare['ID'].unique())\n",
    "print(len(list(flare['ID'].unique())))\n",
    "flare['ID'].unique()"
   ]
  },
  {
   "cell_type": "markdown",
   "metadata": {},
   "source": [
    "##### Función para hacer los datos"
   ]
  },
  {
   "cell_type": "code",
   "execution_count": 6,
   "metadata": {},
   "outputs": [],
   "source": [
    "#funcion que haga eso de forma automatica\n",
    "\n",
    "def edgelist(id):\n",
    "    vec_id = flare[flare['ID'] == id]['Mag']\n",
    "    graph_id = visibility_graph(vec_id)\n",
    "    nx.write_edgelist(graph_id, f'{ruta}edgeList/{id}')\n"
   ]
  },
  {
   "cell_type": "code",
   "execution_count": 8,
   "metadata": {},
   "outputs": [],
   "source": [
    "def get_alpha_data(route,id, li_fit, ls_fit, name):\n",
    "    \n",
    "    data = f'{edge}{id}'\n",
    "    \n",
    "    #manejo del grafo y grados.\n",
    "    G = nx.read_edgelist(data,nodetype=int) # leemos el grafo\n",
    "    degree_count =  nx.degree_histogram(G) \n",
    "    degrees = list(range(0, len(degree_count)))\n",
    "\n",
    "    degree_count, degrees = lista0(degree_count, degrees)\n",
    "    \n",
    "    #Normalize the degree distribution\n",
    "    degree_distribution = [count/float(sum(degree_count)) for count in degree_count]\n",
    "    x0,y0=np.array(np.log10(degrees)),np.array(np.log10(degree_distribution))\n",
    "    x,y=x0[(x0>=li_fit)&(x0<=ls_fit)],y0[(x0>=li_fit)&(x0<=ls_fit)]\n",
    "\n",
    "\n",
    "    x = sm.add_constant(x)\n",
    "    model = sm.OLS(y, x).fit()\n",
    "\n",
    "    alpha = -np.round(model.params[1],2)\n",
    "    values = [name,id,alpha]\n",
    "    \n",
    "    return values"
   ]
  },
  {
   "cell_type": "code",
   "execution_count": 11,
   "metadata": {},
   "outputs": [
    {
     "name": "stdout",
     "output_type": "stream",
     "text": [
      "[['Flare', 1211131320034233281, 2.68], ['Flare', 1201251260114103174, 2.48], ['Flare', 1201141120454117896, 2.32], ['Flare', 1006181091244116352, 2.42], ['Flare', 1202271090564148720, 2.51], ['Flare', 1104041180464131580, 2.86], ['Flare', 1204111180464108242, 2.88], ['Flare', 1109260070234114098, 2.42], ['Flare', 1201301180224121978, 2.52], ['Flare', 1209141181134129658, 2.36], ['Flare', 1107031350754120112, 2.25], ['Flare', 1201271040284172041, 2.94], ['Flare', 1105261210664103986, 1.8], ['Flare', 1206221121184125294, 2.69], ['Flare', 1201301180554121756, 2.72], ['Flare', 1011101120514117494, 2.75], ['Flare', 1210081290084113755, 2.34], ['Flare', 1302181430344101379, 2.69], ['Flare', 1312241260414106473, 1.98], ['Flare', 1312251150554112896, 2.54], ['Flare', 1406281150734103537, 2.51], ['Flare', 1601311460284115377, 2.73], ['Flare', 1512161181174138560, 2.67], ['Flare', 906221151194126593, 2.29], ['Flare', 1611101400424116462, 2.68], ['Flare', 1205161380684113569, 2.72], ['Flare', 1212031040274125613, 2.8], ['Flare', 1112310010184138365, 2.29], ['Flare', 1110241430314158229, 2.62], ['Flare', 1301131010554139998, 2.46], ['Flare', 1010291040204101820, 2.66], ['Flare', 1109291090214135845, 2.26], ['Flare', 1202251040774141275, 2.66], ['Flare', 1001081010294126339, 2.21], ['Flare', 1306071320794125262, 2.59], ['Flare', 1306161290784123559, 3.12], ['Flare', 1304111230414140313, 2.96], ['Flare', 1609251231144129676, 2.61], ['Flare', 1304121230614134803, 2.44], ['Flare', 1607041211134127847, 2.52], ['Flare', 1502251150564130121, 2.47], ['Flare', 1604151230814108369, 2.75], ['Flare', 1602271120454112778, 2.17], ['Flare', 1412241090634108769, 2.57], ['Flare', 1304031120774114435, 2.37], ['Flare', 911240070224131563, 2.36], ['Flare', 1303141290134114251, 2.94], ['Flare', 1606160041184142245, 2.63], ['Flare', 1303011350574103320, 2.21], ['Flare', 1312021180214101950, 2.36], ['Flare', 909281320154111937, 2.42], ['Flare', 1511141320394124088, 3.18], ['Flare', 1505121180464109343, 2.38], ['Flare', 1505011120834122816, 2.55], ['Flare', 1504161150534121066, 2.59], ['Flare', 1310221260034120370, 2.82], ['Flare', 1410011070104121118, 2.67], ['Flare', 1410221260164120719, 2.36], ['Flare', 1510091151184109040, 2.51]]\n"
     ]
    }
   ],
   "source": [
    "values = []\n",
    "for id in ids:\n",
    "    values.append(get_alpha_data(edge, id, 0.789, 1.369, 'Flare')) \n",
    "\n",
    "print(values)"
   ]
  },
  {
   "cell_type": "code",
   "execution_count": 12,
   "metadata": {},
   "outputs": [],
   "source": [
    "import csv \n",
    "\n",
    "ruta = '../resultados/prueba.csv'\n",
    "\n",
    "with open (ruta, mode = 'a', newline = '') as archivo: \n",
    "    writer = csv.writer(archivo)\n",
    "\n",
    "    writer.writerows(values)\n",
    "    pass"
   ]
  },
  {
   "cell_type": "markdown",
   "metadata": {},
   "source": [
    "#### Indices de los id's a probar (sacado aleatoreamente)\n",
    "\n",
    "id1: 11\n",
    "\n",
    "id2: 32\n",
    "\n",
    "id3: 44\n",
    "\n",
    "id4: 35\n",
    "\n",
    "id5: 42"
   ]
  },
  {
   "cell_type": "code",
   "execution_count": 10,
   "metadata": {},
   "outputs": [],
   "source": [
    "ids_group = [1205161380684113569, 1010291040204101820, 1303141290134114251, 1606160041184142245, 1312021180214101950,\n",
    "              1011101120514117494, 1406281150734103537, 1607041211134127847, 909281320154111937, 1611101400424116462,\n",
    "                1511141320394124088, 906221151194126593, 1505011120834122816, 1104041180464131580, 1410011070104121118]\n",
    "\n",
    "\n",
    "\"\"\" \n",
    "id1 = 1201271040284172041\n",
    "id2 = 1202251040774141275\n",
    "id3 = 1304031120774114435\n",
    "id4 = 1306161290784123559\n",
    "id5 = 1602271120454112778\n",
    "\n",
    "\n",
    "edgelist(id1)\n",
    "edgelist(id2)\n",
    "edgelist(id3)\n",
    "edgelist(id4)\n",
    "edgelist(id5)\n",
    "\n",
    "#TODO: Realizar las pruebas de la 2 en adelante \"\"\"\n",
    "\n",
    "for _ in ids:\n",
    "    edgelist(_)"
   ]
  },
  {
   "cell_type": "code",
   "execution_count": 11,
   "metadata": {},
   "outputs": [
    {
     "name": "stdout",
     "output_type": "stream",
     "text": [
      "15\n"
     ]
    }
   ],
   "source": [
    "values_min = [0.86, 0.89, 0.82, 0.71, 0.73, 0.79, 0.70, 0.770, 0.77, 0.80, 0.74, 0.80, 0.81, 0.91, 0.74]\n",
    "values_max = [1.35, 1.34, 1.30, 1.41, 1.40, 1.40, 1.37, 1.385, 1.42, 1.26, 1.37, 1.41, 1.39, 1.39, 1.34]\n",
    "values_alpha = [2.78, 2.85, 3.34, 2.45, 2.4, 2.78, 2.44, 2.56, 2.46, 3.37, 2.98, 2.37, 2.58, 3.05, 2.65]\n",
    "print(len(values_alpha))"
   ]
  },
  {
   "cell_type": "code",
   "execution_count": 12,
   "metadata": {},
   "outputs": [
    {
     "data": {
      "image/png": "[encoded data removed]",
      "text/plain": [
       "<Figure size 600x400 with 1 Axes>"
      ]
     },
     "metadata": {},
     "output_type": "display_data"
    }
   ],
   "source": [
    "get_alpha(ruta, ids_group[14], 0.74, 1.34,0.26,1.78, \"red\", ids_group[14])"
   ]
  },
  {
   "cell_type": "markdown",
   "metadata": {},
   "source": [
    "#### PRUEBA 1 $\\rightarrow$ Flare\n",
    "\n",
    "ID: 1201271040284172041"
   ]
  },
  {
   "cell_type": "code",
   "execution_count": 13,
   "metadata": {},
   "outputs": [],
   "source": [
    "#0.85 & 1.34 -> 3.0\n",
    "#0.76 & 1.45 -> 2.16\n",
    "\n",
    "# get_alpha(ruta, id1, 0.76 ,1.33,0.26,1.78, \"red\", id1)\n"
   ]
  },
  {
   "cell_type": "markdown",
   "metadata": {},
   "source": [
    "#### PRUEBA 2 $\\rightarrow$ Flare\n",
    "\n",
    "ID: 1202251040774141275"
   ]
  },
  {
   "cell_type": "code",
   "execution_count": 14,
   "metadata": {},
   "outputs": [],
   "source": [
    "#0.85 & 1.34 -> 3.0\n",
    "#0.76 & 1.45 -> 2.16\n",
    "\n",
    "# get_alpha(ruta, id2, 0.76 ,1.38,0.26,1.78, \"red\", id2)\n"
   ]
  },
  {
   "cell_type": "markdown",
   "metadata": {},
   "source": [
    "#### PRUEBA 3 $\\rightarrow$ Flare\n",
    "\n",
    "ID: 1304031120774114435"
   ]
  },
  {
   "cell_type": "code",
   "execution_count": 15,
   "metadata": {},
   "outputs": [],
   "source": [
    "#0.85 & 1.34 -> 3.0\n",
    "#0.76 & 1.45 -> 2.16\n",
    "\n",
    "# get_alpha(ruta, id3, 0.76 ,1.41,0.26,1.78, \"red\", id3)\n"
   ]
  },
  {
   "cell_type": "markdown",
   "metadata": {},
   "source": [
    "#### PRUEBA 4 $\\rightarrow$ Flare\n",
    "\n",
    "ID: 1306161290784123559"
   ]
  },
  {
   "cell_type": "code",
   "execution_count": 16,
   "metadata": {},
   "outputs": [],
   "source": [
    "#0.85 & 1.34 -> 3.0\n",
    "#0.76 & 1.45 -> 2.16\n",
    "\n",
    "# get_alpha(ruta, id4, 0.76 ,1.31,0.26,1.78, \"red\", id4)\n"
   ]
  },
  {
   "cell_type": "markdown",
   "metadata": {},
   "source": [
    "#### PRUEBA 5 $\\rightarrow$ Flare\n",
    "\n",
    "ID: 1602271120454112778"
   ]
  },
  {
   "cell_type": "code",
   "execution_count": 17,
   "metadata": {},
   "outputs": [],
   "source": [
    "#0.85 & 1.34 -> 3.0\n",
    "#0.76 & 1.45 -> 2.16\n",
    "\n",
    "# get_alpha(ruta, id5, 0.76 ,1.37,0.26,1.78, \"red\", id5)\n"
   ]
  }
 ],
 "metadata": {
  "kernelspec": {
   "display_name": "Python 3",
   "language": "python",
   "name": "python3"
  },
  "language_info": {
   "codemirror_mode": {
    "name": "ipython",
    "version": 3
   },
   "file_extension": ".py",
   "mimetype": "text/x-python",
   "name": "python",
   "nbconvert_exporter": "python",
   "pygments_lexer": "ipython3",
   "version": "3.11.3"
  }
 },
 "nbformat": 4,
 "nbformat_minor": 2
}
