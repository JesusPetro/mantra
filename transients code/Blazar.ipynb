{
 "cells": [
  {
   "cell_type": "code",
   "execution_count": 1,
   "metadata": {},
   "outputs": [],
   "source": [
    "import pandas as pd\n",
    "import random\n",
    "import matplotlib.pyplot as plt \n",
    "import numpy as np \n",
    "from visibility_graph import visibility_graph\n",
    "import networkx as nx\n",
    "import statsmodels.api as sm\n",
    "import os\n",
    "\n",
    "ruta = '../Blazar/'\n",
    "title = 'Blazar'\n",
    "edge = '../Blazar/edgeList/'\n",
    "\n",
    "if not os.path.exists(ruta):\n",
    "    os.makedirs(ruta)\n",
    "\n",
    "    \n",
    "if not os.path.exists(edge):\n",
    "    os.makedirs(edge)"
   ]
  },
  {
   "cell_type": "code",
   "execution_count": 2,
   "metadata": {},
   "outputs": [],
   "source": [
    "def lista0 (lista1, lista2):\n",
    "    while 0 in lista1:\n",
    "        lista2.pop(lista1.index(0))\n",
    "        lista1.remove(0)\n",
    "    return lista1, lista2 \n",
    "\n",
    "def get_alpha(route,id, li_fit, ls_fit, xlimi, xlims, color, name):\n",
    "    \n",
    "    data = f'{route}{id}'\n",
    "    routeSaved = f'{route}pdf_{title}/'\n",
    "\n",
    "    if not os.path.exists(routeSaved):\n",
    "        os.makedirs(routeSaved)\n",
    "\n",
    "    #manejo del grafo y grados.\n",
    "    G = nx.read_edgelist(data,nodetype=int) # leemos el grafo\n",
    "    degree_count =  nx.degree_histogram(G) \n",
    "    degrees = list(range(0, len(degree_count)))\n",
    "\n",
    "    degree_count, degrees = lista0(degree_count, degrees)\n",
    "    \n",
    "    #Normalize the degree distribution\n",
    "    degree_distribution = [count/float(sum(degree_count)) for count in degree_count]\n",
    "    x0,y0=np.array(np.log10(degrees)),np.array(np.log10(degree_distribution))\n",
    "    x,y=x0[(x0>=li_fit)&(x0<=ls_fit)],y0[(x0>=li_fit)&(x0<=ls_fit)]\n",
    "\n",
    "\n",
    "    x = sm.add_constant(x)\n",
    "    model = sm.OLS(y, x).fit()\n",
    "\n",
    "    # Plot degree distribution\n",
    "    a=np.linspace(li_fit,ls_fit,10)\n",
    "    \n",
    "\n",
    "    plt.figure(figsize=(6,4))\n",
    "    print(np.corrcoef(a,(a)*(model.params[1])+model.params[0]*1.)[0, 1])\n",
    "    plt.plot(x0,y0,color=color,linewidth=0,marker=\"P\",markersize=5,label=\"data\")\n",
    "    plt.plot(a,(a)*(model.params[1])+model.params[0]*1.,color=\"k\",lw=3,label=r\"fit ($\\alpha_0={}$)\".format(-np.round(model.params[1],2)))\n",
    "    plt.xlabel(r'$\\log_{10}(k)$ (Degree)'); plt.ylabel(r'$\\log_{10} P(k)$'); plt.title('Degree Distribution {}'.format(name)); plt.legend(); plt.xlim(xlimi,xlims)\n",
    "    plt.legend(title=r\"$P(k)\\sim x^{-\\alpha_0}$\"); plt.grid(alpha=0.5)\n",
    "    plt.savefig(routeSaved+f'{id}.pdf',dpi=400,bbox_inches='tight')\n",
    "    plt.show()\n",
    "\n",
    "    return"
   ]
  },
  {
   "cell_type": "code",
   "execution_count": 3,
   "metadata": {},
   "outputs": [
    {
     "data": {
      "text/html": [
       "<div>\n",
       "<style scoped>\n",
       "    .dataframe tbody tr th:only-of-type {\n",
       "        vertical-align: middle;\n",
       "    }\n",
       "\n",
       "    .dataframe tbody tr th {\n",
       "        vertical-align: top;\n",
       "    }\n",
       "\n",
       "    .dataframe thead th {\n",
       "        text-align: right;\n",
       "    }\n",
       "</style>\n",
       "<table border=\"1\" class=\"dataframe\">\n",
       "  <thead>\n",
       "    <tr style=\"text-align: right;\">\n",
       "      <th></th>\n",
       "      <th>Classification</th>\n",
       "      <th>ID</th>\n",
       "      <th>observation_id</th>\n",
       "      <th>Mag</th>\n",
       "      <th>Magerr</th>\n",
       "      <th>MJD</th>\n",
       "    </tr>\n",
       "  </thead>\n",
       "  <tbody>\n",
       "    <tr>\n",
       "      <th>0</th>\n",
       "      <td>Blazar</td>\n",
       "      <td>1111171350514136075</td>\n",
       "      <td>202378</td>\n",
       "      <td>18.8134</td>\n",
       "      <td>0.141638</td>\n",
       "      <td>56097.183184</td>\n",
       "    </tr>\n",
       "    <tr>\n",
       "      <th>1</th>\n",
       "      <td>Blazar</td>\n",
       "      <td>1111171350514136075</td>\n",
       "      <td>202346</td>\n",
       "      <td>19.0674</td>\n",
       "      <td>0.174843</td>\n",
       "      <td>55976.275166</td>\n",
       "    </tr>\n",
       "    <tr>\n",
       "      <th>2</th>\n",
       "      <td>Blazar</td>\n",
       "      <td>1111171350514136075</td>\n",
       "      <td>202345</td>\n",
       "      <td>18.9387</td>\n",
       "      <td>0.164027</td>\n",
       "      <td>55976.266698</td>\n",
       "    </tr>\n",
       "    <tr>\n",
       "      <th>3</th>\n",
       "      <td>Blazar</td>\n",
       "      <td>1111171350514136075</td>\n",
       "      <td>202343</td>\n",
       "      <td>19.4288</td>\n",
       "      <td>0.204686</td>\n",
       "      <td>55959.286496</td>\n",
       "    </tr>\n",
       "    <tr>\n",
       "      <th>4</th>\n",
       "      <td>Blazar</td>\n",
       "      <td>1111171350514136075</td>\n",
       "      <td>202342</td>\n",
       "      <td>18.5432</td>\n",
       "      <td>0.137017</td>\n",
       "      <td>55959.280702</td>\n",
       "    </tr>\n",
       "    <tr>\n",
       "      <th>...</th>\n",
       "      <td>...</td>\n",
       "      <td>...</td>\n",
       "      <td>...</td>\n",
       "      <td>...</td>\n",
       "      <td>...</td>\n",
       "      <td>...</td>\n",
       "    </tr>\n",
       "    <tr>\n",
       "      <th>19821</th>\n",
       "      <td>Blazar</td>\n",
       "      <td>1302171230424139186</td>\n",
       "      <td>118845</td>\n",
       "      <td>19.9249</td>\n",
       "      <td>0.264278</td>\n",
       "      <td>56011.146120</td>\n",
       "    </tr>\n",
       "    <tr>\n",
       "      <th>19822</th>\n",
       "      <td>Blazar</td>\n",
       "      <td>1302171230424139186</td>\n",
       "      <td>118864</td>\n",
       "      <td>19.4358</td>\n",
       "      <td>0.211367</td>\n",
       "      <td>56214.454054</td>\n",
       "    </tr>\n",
       "    <tr>\n",
       "      <th>19823</th>\n",
       "      <td>Blazar</td>\n",
       "      <td>1302171230424139186</td>\n",
       "      <td>118836</td>\n",
       "      <td>19.3657</td>\n",
       "      <td>0.170740</td>\n",
       "      <td>55982.194337</td>\n",
       "    </tr>\n",
       "    <tr>\n",
       "      <th>19824</th>\n",
       "      <td>Blazar</td>\n",
       "      <td>1302171230424139186</td>\n",
       "      <td>118844</td>\n",
       "      <td>20.4842</td>\n",
       "      <td>0.357972</td>\n",
       "      <td>56011.141062</td>\n",
       "    </tr>\n",
       "    <tr>\n",
       "      <th>19825</th>\n",
       "      <td>Blazar</td>\n",
       "      <td>1302171230424139186</td>\n",
       "      <td>118850</td>\n",
       "      <td>19.2785</td>\n",
       "      <td>0.195181</td>\n",
       "      <td>56028.139548</td>\n",
       "    </tr>\n",
       "  </tbody>\n",
       "</table>\n",
       "<p>19826 rows × 6 columns</p>\n",
       "</div>"
      ],
      "text/plain": [
       "      Classification                   ID  observation_id      Mag    Magerr   \n",
       "0             Blazar  1111171350514136075          202378  18.8134  0.141638  \\\n",
       "1             Blazar  1111171350514136075          202346  19.0674  0.174843   \n",
       "2             Blazar  1111171350514136075          202345  18.9387  0.164027   \n",
       "3             Blazar  1111171350514136075          202343  19.4288  0.204686   \n",
       "4             Blazar  1111171350514136075          202342  18.5432  0.137017   \n",
       "...              ...                  ...             ...      ...       ...   \n",
       "19821         Blazar  1302171230424139186          118845  19.9249  0.264278   \n",
       "19822         Blazar  1302171230424139186          118864  19.4358  0.211367   \n",
       "19823         Blazar  1302171230424139186          118836  19.3657  0.170740   \n",
       "19824         Blazar  1302171230424139186          118844  20.4842  0.357972   \n",
       "19825         Blazar  1302171230424139186          118850  19.2785  0.195181   \n",
       "\n",
       "                MJD  \n",
       "0      56097.183184  \n",
       "1      55976.275166  \n",
       "2      55976.266698  \n",
       "3      55959.286496  \n",
       "4      55959.280702  \n",
       "...             ...  \n",
       "19821  56011.146120  \n",
       "19822  56214.454054  \n",
       "19823  55982.194337  \n",
       "19824  56011.141062  \n",
       "19825  56028.139548  \n",
       "\n",
       "[19826 rows x 6 columns]"
      ]
     },
     "execution_count": 3,
     "metadata": {},
     "output_type": "execute_result"
    }
   ],
   "source": [
    "blazar = pd.read_csv(f'../transients/{title}.csv')\n",
    "blazar"
   ]
  },
  {
   "cell_type": "code",
   "execution_count": 4,
   "metadata": {},
   "outputs": [
    {
     "name": "stdout",
     "output_type": "stream",
     "text": [
      "55\n"
     ]
    },
    {
     "data": {
      "text/plain": [
       "array([1111171350514136075, 1502081400484121702, 1110181290134107909,\n",
       "       1501181320604119409, 1110171090534127312, 1610071320374137623,\n",
       "       1112161230394126529, 1111221120534115711, 1412301120594110654,\n",
       "       1112301380354137481,  904211350794109737,  905041430674135550,\n",
       "       1109180041254129754, 1201261350534144397, 1201291120484130165,\n",
       "       1109260040234128189, 1103051070734123798, 1105031400494106710,\n",
       "        902140010554111683, 1202251210174133400, 1202191380504109013,\n",
       "       1204111210464120236, 1401070011234112940, 1405191320754141571,\n",
       "       1202291210684145534, 1103281260734125627, 1606161090634117514,\n",
       "        811071351034109903, 1010111011204118970, 1205251090794110609,\n",
       "       1210211070014111403,  805061180634116217, 1006040091104115912,\n",
       "        811041150144132384, 1209171320804150109,  812221320064119991,\n",
       "       1209171260074119171, 1303151210504145839,  912111210184153058,\n",
       "       1302110040604104918,  810300040154130307, 1002151210634128202,\n",
       "        912201400354121224, 1005121320394119966, 1309281121184118018,\n",
       "       1303021230624130836,  911181290484113217, 1309171070164130218,\n",
       "       1305091120664119543,  911261180414138295, 1302061180174118628,\n",
       "       1601121290524101185, 1302171230424139186, 1004060010564103401,\n",
       "       1306111120664110776], dtype=int64)"
      ]
     },
     "execution_count": 4,
     "metadata": {},
     "output_type": "execute_result"
    }
   ],
   "source": [
    "ids = list(blazar['ID'].unique())\n",
    "print(len(list(blazar['ID'].unique())))\n",
    "blazar['ID'].unique()\n"
   ]
  },
  {
   "cell_type": "markdown",
   "metadata": {},
   "source": [
    "##### Función para hacer los datos"
   ]
  },
  {
   "cell_type": "code",
   "execution_count": 5,
   "metadata": {},
   "outputs": [],
   "source": [
    "#funcion que haga eso de forma automatica\n",
    "\n",
    "def edgelist(id):\n",
    "\n",
    "    vec_id = blazar[blazar['ID'] == id]['Mag']\n",
    "    graph_id = visibility_graph(vec_id)\n",
    "    nx.write_edgelist(graph_id, f'{ruta}edgeList/{id}')"
   ]
  },
  {
   "cell_type": "code",
   "execution_count": 6,
   "metadata": {},
   "outputs": [
    {
     "name": "stdout",
     "output_type": "stream",
     "text": [
      "Muestra aleatoria sin repeticiones: [1205251090794110609, 1002151210634128202, 1610071320374137623, 1103051070734123798, 1111221120534115711, 1606161090634117514, 1110181290134107909, 1209171320804150109, 812221320064119991, 1309281121184118018, 1201261350534144397, 1006040091104115912, 911261180414138295, 1105031400494106710, 811071351034109903]\n"
     ]
    }
   ],
   "source": [
    "import random\n",
    "\n",
    "# Define tu lista\n",
    "\n",
    "# Obtén una muestra aleatoria de tamaño 5 sin repeticiones\n",
    "muestra_aleatoria = random.sample(ids, 15)\n",
    "\n",
    "# Imprime la muestra aleatoria\n",
    "print(\"Muestra aleatoria sin repeticiones:\", muestra_aleatoria)\n"
   ]
  },
  {
   "cell_type": "code",
   "execution_count": 6,
   "metadata": {},
   "outputs": [],
   "source": [
    "def get_alpha_data(route,id, li_fit, ls_fit, name):\n",
    "    \n",
    "    data = f'{edge}{id}'\n",
    "    \n",
    "    #manejo del grafo y grados.\n",
    "    G = nx.read_edgelist(data,nodetype=int) # leemos el grafo\n",
    "    degree_count =  nx.degree_histogram(G) \n",
    "    degrees = list(range(0, len(degree_count)))\n",
    "\n",
    "    degree_count, degrees = lista0(degree_count, degrees)\n",
    "    \n",
    "    #Normalize the degree distribution\n",
    "    degree_distribution = [count/float(sum(degree_count)) for count in degree_count]\n",
    "    x0,y0=np.array(np.log10(degrees)),np.array(np.log10(degree_distribution))\n",
    "    x,y=x0[(x0>=li_fit)&(x0<=ls_fit)],y0[(x0>=li_fit)&(x0<=ls_fit)]\n",
    "\n",
    "\n",
    "    x = sm.add_constant(x)\n",
    "    model = sm.OLS(y, x).fit()\n",
    "\n",
    "    alpha = -np.round(model.params[1],2)\n",
    "    values = [name,id,alpha]\n",
    "    \n",
    "    return values"
   ]
  },
  {
   "cell_type": "code",
   "execution_count": 7,
   "metadata": {},
   "outputs": [
    {
     "name": "stdout",
     "output_type": "stream",
     "text": [
      "[['Blazar', 1111171350514136075, 2.59], ['Blazar', 1502081400484121702, 2.41], ['Blazar', 1110181290134107909, 2.14], ['Blazar', 1501181320604119409, 2.38], ['Blazar', 1110171090534127312, 2.49], ['Blazar', 1610071320374137623, 2.58], ['Blazar', 1112161230394126529, 2.36], ['Blazar', 1111221120534115711, 2.2], ['Blazar', 1412301120594110654, 2.19], ['Blazar', 1112301380354137481, 2.67], ['Blazar', 904211350794109737, 2.51], ['Blazar', 905041430674135550, 2.42], ['Blazar', 1109180041254129754, 2.27], ['Blazar', 1201261350534144397, 2.41], ['Blazar', 1201291120484130165, 2.58], ['Blazar', 1109260040234128189, 2.45], ['Blazar', 1103051070734123798, 2.37], ['Blazar', 1105031400494106710, 2.35], ['Blazar', 902140010554111683, 2.16], ['Blazar', 1202251210174133400, 2.43], ['Blazar', 1202191380504109013, 2.29], ['Blazar', 1204111210464120236, 2.34], ['Blazar', 1401070011234112940, 2.45], ['Blazar', 1405191320754141571, 2.32], ['Blazar', 1202291210684145534, 2.59], ['Blazar', 1103281260734125627, 2.98], ['Blazar', 1606161090634117514, 2.52], ['Blazar', 811071351034109903, 2.76], ['Blazar', 1010111011204118970, 2.4], ['Blazar', 1205251090794110609, 2.46], ['Blazar', 1210211070014111403, 2.39], ['Blazar', 805061180634116217, 2.1], ['Blazar', 1006040091104115912, 2.3], ['Blazar', 811041150144132384, 2.22], ['Blazar', 1209171320804150109, 2.43], ['Blazar', 812221320064119991, 2.38], ['Blazar', 1209171260074119171, 2.76], ['Blazar', 1303151210504145839, 2.41], ['Blazar', 912111210184153058, 2.65], ['Blazar', 1302110040604104918, 2.44], ['Blazar', 810300040154130307, 2.53], ['Blazar', 1002151210634128202, 2.38], ['Blazar', 912201400354121224, 2.43], ['Blazar', 1005121320394119966, 2.45], ['Blazar', 1309281121184118018, 2.75], ['Blazar', 1303021230624130836, 2.36], ['Blazar', 911181290484113217, 2.44], ['Blazar', 1309171070164130218, 2.24], ['Blazar', 1305091120664119543, 2.11], ['Blazar', 911261180414138295, 2.11], ['Blazar', 1302061180174118628, 2.37], ['Blazar', 1601121290524101185, 2.23], ['Blazar', 1302171230424139186, 2.51], ['Blazar', 1004060010564103401, 2.55], ['Blazar', 1306111120664110776, 2.18]]\n"
     ]
    }
   ],
   "source": [
    "values = []\n",
    "for id in ids:\n",
    "    values.append(get_alpha_data(edge, id, 0.777, 1.413, 'Blazar')) \n",
    "print(values)"
   ]
  },
  {
   "cell_type": "code",
   "execution_count": 8,
   "metadata": {},
   "outputs": [],
   "source": [
    "import csv \n",
    "\n",
    "ruta = '../resultados/prueba.csv'\n",
    "\n",
    "with open (ruta, mode = 'a', newline = '') as archivo: \n",
    "    writer = csv.writer(archivo)\n",
    "\n",
    "    writer.writerows(values)\n",
    "    pass"
   ]
  },
  {
   "cell_type": "markdown",
   "metadata": {},
   "source": [
    "#### Indices de los id's a probar (sacado aleatoreamente)\n",
    "\n",
    "id1 = 4\n",
    "id2 = 42\n",
    "id3 = 0\n",
    "id4 = 35\n",
    "id5 = 32\n"
   ]
  },
  {
   "cell_type": "code",
   "execution_count": 19,
   "metadata": {},
   "outputs": [],
   "source": [
    "ids_group = [1105031400494106710, 1305091120664119543, 1303151210504145839, 1502081400484121702, 812221320064119991, \n",
    "             1111171350514136075, 811071351034109903, 1501181320604119409, 1205251090794110609, 1103281260734125627, \n",
    "             1302110040604104918, 1005121320394119966, 1204111210464120236, 1010111011204118970, 1202251210174133400]\n",
    "\n",
    "\n",
    "\"\"\" id1 = 1110171090534127312\n",
    "id2 = 912201400354121224\n",
    "id3 = 1111171350514136075\n",
    "id4 = 812221320064119991\n",
    "id5 = 1006040091104115912\n",
    "\n",
    "\n",
    "edgelist(id1)\n",
    "edgelist(id2)\n",
    "edgelist(id3)\n",
    "edgelist(id4)\n",
    "edgelist(id5) \"\"\"\n",
    "\n",
    "for _ in ids: \n",
    "    edgelist(_)"
   ]
  },
  {
   "cell_type": "code",
   "execution_count": 8,
   "metadata": {},
   "outputs": [
    {
     "name": "stdout",
     "output_type": "stream",
     "text": [
      "Coeficiente de correlación: 0.9999999999999999\n"
     ]
    }
   ],
   "source": [
    "import numpy as np\n",
    "\n",
    "# Define tus datos\n",
    "x = [1, 2, 3, 4, 5]\n",
    "y = [2, 4, 6, 8, 10]\n",
    "\n",
    "# Calcula el coeficiente de correlación\n",
    "coef_corr = np.corrcoef(x, y)[0, 1]\n",
    "\n",
    "# Imprime el coeficiente de correlación\n",
    "print(\"Coeficiente de correlación:\", coef_corr)\n",
    "\n"
   ]
  },
  {
   "cell_type": "code",
   "execution_count": 9,
   "metadata": {},
   "outputs": [],
   "source": [
    "values_min = [0.73, 0.70, 0.72, 0.79, 0.70, 0.72, 0.78, 0.78, 0.87, 0.96, 0.76, 0.84, 0.71, 0.87, 0.73]\n",
    "values_max = [1.43, 1.44, 1.48, 1.48, 1.39, 1.29, 1.34, 1.38, 1.34, 1.34, 1.43, 1.45, 1.59, 1.41, 1.41]\n",
    "values_alpha = [2.21, 2.14, 2.4, 2.59, 2.39, 2.84, 2.77, 2.53, 3.09, 3.76, 2.26, 2.56, 2.01, 2.56, 2.43]"
   ]
  },
  {
   "cell_type": "code",
   "execution_count": 10,
   "metadata": {},
   "outputs": [
    {
     "name": "stdout",
     "output_type": "stream",
     "text": [
      "-1.0\n"
     ]
    },
    {
     "data": {
      "image/png": "[encoded data removed]",
      "text/plain": [
       "<Figure size 600x400 with 1 Axes>"
      ]
     },
     "metadata": {},
     "output_type": "display_data"
    }
   ],
   "source": [
    "get_alpha(ruta, ids_group[4], 0.70, 1.39,0.26,1.78, \"red\", ids_group[4])"
   ]
  },
  {
   "cell_type": "markdown",
   "metadata": {},
   "source": [
    "#### PRUEBA 1 $\\rightarrow$ Blazar\n",
    "\n",
    "ID: 1110171090534127312"
   ]
  },
  {
   "cell_type": "code",
   "execution_count": 11,
   "metadata": {},
   "outputs": [],
   "source": [
    "#0.85 & 1.34 -> 3.0\n",
    "#otra opcion: 0.65  & 1.43 -> 2.32 [posible ganadora]\n",
    "#otra (no creo tanto): 0.72 & 1.42 -> 2.4\n",
    "\n",
    "# get_alpha(ruta, id1, 0.73,1.5,0.26,1.78, \"red\", id1)\n"
   ]
  },
  {
   "cell_type": "markdown",
   "metadata": {},
   "source": [
    "#### PRUEBA 2 $\\rightarrow$ Blazar\n",
    "\n",
    "ID: 912201400354121224"
   ]
  },
  {
   "cell_type": "code",
   "execution_count": 12,
   "metadata": {},
   "outputs": [],
   "source": [
    "#0.85 & 1.34 -> 1.58\n",
    "#otra opcion: 0.65  & 1.398 -> 2.19 [posible ganadora]\n",
    "#otra: 0.695 & 1.398 -> 2.19 [mismo pero mejor]\n",
    "\n",
    "# get_alpha(ruta,id2,0.72,1.41,0.3,1.75, \"red\", id2)"
   ]
  },
  {
   "cell_type": "markdown",
   "metadata": {},
   "source": [
    "#### PRUEBA 3 $\\rightarrow$ Blazar\n",
    "\n",
    "ID: 1111171350514136075\n"
   ]
  },
  {
   "cell_type": "code",
   "execution_count": 13,
   "metadata": {},
   "outputs": [],
   "source": [
    "\n",
    "\n",
    "# get_alpha(ruta,id3,0.715,1.29,0.3,1.75, \"red\", id3)"
   ]
  },
  {
   "cell_type": "markdown",
   "metadata": {},
   "source": [
    "#### PRUEBA 4 $\\rightarrow$ Blazar\n",
    "\n",
    "ID: 812221320064119991"
   ]
  },
  {
   "cell_type": "code",
   "execution_count": 14,
   "metadata": {},
   "outputs": [],
   "source": [
    "\n",
    "#dudo un poco \n",
    "\n",
    "# get_alpha(ruta,id4,0.70,1.395,0.3,1.75, \"red\", id4)"
   ]
  },
  {
   "cell_type": "markdown",
   "metadata": {},
   "source": [
    "#### PRUEBA 5 $\\rightarrow$ Blazar\n",
    "\n",
    "ID: 1006040091104115912"
   ]
  },
  {
   "cell_type": "code",
   "execution_count": 15,
   "metadata": {},
   "outputs": [],
   "source": [
    "\n",
    "\n",
    "# get_alpha(ruta,id5,0.79,1.46,0.3,1.75, \"red\", id5)"
   ]
  },
  {
   "cell_type": "code",
   "execution_count": null,
   "metadata": {},
   "outputs": [],
   "source": []
  }
 ],
 "metadata": {
  "kernelspec": {
   "display_name": "Python 3",
   "language": "python",
   "name": "python3"
  },
  "language_info": {
   "codemirror_mode": {
    "name": "ipython",
    "version": 3
   },
   "file_extension": ".py",
   "mimetype": "text/x-python",
   "name": "python",
   "nbconvert_exporter": "python",
   "pygments_lexer": "ipython3",
   "version": "3.11.3"
  }
 },
 "nbformat": 4,
 "nbformat_minor": 2
}
